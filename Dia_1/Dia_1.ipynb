{
 "cells": [
  {
   "cell_type": "markdown",
   "metadata": {},
   "source": [
    "# 1ª Jornada de Minicursos do Quarenteners \n",
    "## Minicurso de Python (Dia 1)\n",
    "### Autor: Tiarles Guterres"
   ]
  },
  {
   "cell_type": "markdown",
   "metadata": {},
   "source": [
    "#### Estruturas de Condição e Operadores Booleanos\n",
    "\n",
    "* Operações Booleanas(Bool Type, and, or, not)\n",
    "* Operadores relacionais (=>, =<, !=, ==)]\n",
    "* Statements de condição(if/elif/else)"
   ]
  },
  {
   "cell_type": "code",
   "execution_count": 1,
   "metadata": {},
   "outputs": [
    {
     "name": "stdout",
     "output_type": "stream",
     "text": [
      "Executa este bloco!\n",
      "Aqui sempre executa!\n"
     ]
    }
   ],
   "source": [
    "if True: # If com condição verdadeira\n",
    "    print(\"Executa este bloco!\")\n",
    "print(\"Aqui sempre executa!\")"
   ]
  },
  {
   "cell_type": "code",
   "execution_count": 2,
   "metadata": {},
   "outputs": [
    {
     "name": "stdout",
     "output_type": "stream",
     "text": [
      "Aqui sempre executa!\n"
     ]
    }
   ],
   "source": [
    "if False: # If com condição false\n",
    "    print(\"Não executa este bloco!\")\n",
    "print(\"Aqui sempre executa!\")"
   ]
  },
  {
   "cell_type": "code",
   "execution_count": 3,
   "metadata": {},
   "outputs": [
    {
     "name": "stdout",
     "output_type": "stream",
     "text": [
      "x eh diferente de zero\n"
     ]
    }
   ],
   "source": [
    "x = 5\n",
    "\n",
    "if x == 0:\n",
    "    print('x eh igual a zero')\n",
    "else: # Para x != 0\n",
    "    print('x eh diferente de zero')"
   ]
  },
  {
   "cell_type": "code",
   "execution_count": 4,
   "metadata": {},
   "outputs": [
    {
     "name": "stdout",
     "output_type": "stream",
     "text": [
      "x eh maior que zero\n"
     ]
    }
   ],
   "source": [
    "x = 5\n",
    "\n",
    "if x == 0:\n",
    "    print('x eh igual a zero')\n",
    "elif x < 0:\n",
    "    print('x eh menor que zero')\n",
    "else:  # Para x positivo\n",
    "    print('x eh maior que zero')"
   ]
  },
  {
   "cell_type": "markdown",
   "metadata": {},
   "source": [
    "#### Exercício: Avaliar uma nota utilizando a métrica de letras com \"A\", \"B\",\"C\", \"D\", \"E\", \"F\" e notas de 0 à 100.​\n",
    "\n",
    "* Se a nota = 100: **'A'**\n",
    "* Senão se a nota está entre 99 e 91: **'B'**\n",
    "* Senão se a nota está entre 90 e 81: **'C'**\n",
    "* Senão se a nota está entre 80 e 71: **'D'**\n",
    "* Senão se a nota está entre 70 e 61: **'E'**\n",
    "* Senão se a nota está entre 60 e 0: **'F'**"
   ]
  },
  {
   "cell_type": "code",
   "execution_count": 5,
   "metadata": {},
   "outputs": [
    {
     "name": "stdout",
     "output_type": "stream",
     "text": [
      "Qual a nota? 99\n"
     ]
    }
   ],
   "source": [
    "nota = int(input(\"Qual a nota? \"))"
   ]
  },
  {
   "cell_type": "code",
   "execution_count": 6,
   "metadata": {},
   "outputs": [
    {
     "name": "stdout",
     "output_type": "stream",
     "text": [
      "B\n"
     ]
    }
   ],
   "source": [
    "if nota == 100:\n",
    "    print(\"A\")\n",
    "elif nota <= 99 and nota > 90:\n",
    "    print(\"B\")\n",
    "elif nota <= 90 and nota > 80:\n",
    "    print(\"C\")\n",
    "elif nota <= 80 and nota > 70:\n",
    "    print(\"D\")\n",
    "elif nota <= 70 and nota > 60:\n",
    "    print(\"E\")\n",
    "else:  # nota =< 60\n",
    "    print(\"F\")"
   ]
  },
  {
   "cell_type": "markdown",
   "metadata": {},
   "source": [
    "#### Sequências\n",
    "\n",
    "* Listas\n",
    "* Tuplas\n",
    "* Ranges\n",
    "* Strings\n",
    "\n",
    "* Biblioteca random (choice e shuffle)"
   ]
  },
  {
   "cell_type": "code",
   "execution_count": 7,
   "metadata": {},
   "outputs": [
    {
     "name": "stdout",
     "output_type": "stream",
     "text": [
      "[0, 1, 2, 3, 4, 5, 6, 7, 8, 9]\n",
      "(0, 1, 2, 3, 4, 5, 6, 7, 8, 9)\n"
     ]
    }
   ],
   "source": [
    "r = range(10)\n",
    "l = list(r); print(l)\n",
    "t = tuple(r); print(t)"
   ]
  },
  {
   "cell_type": "code",
   "execution_count": 8,
   "metadata": {},
   "outputs": [
    {
     "name": "stdout",
     "output_type": "stream",
     "text": [
      "[-1, 1, 2, 3, 4, 5, 6, 7, 8, 9]\n"
     ]
    }
   ],
   "source": [
    "# Modificando listas - Sucesso\n",
    "l[0] = -1; print(l)"
   ]
  },
  {
   "cell_type": "code",
   "execution_count": 9,
   "metadata": {},
   "outputs": [
    {
     "ename": "TypeError",
     "evalue": "'tuple' object does not support item assignment",
     "output_type": "error",
     "traceback": [
      "\u001b[1;31m---------------------------------------------------------------------------\u001b[0m",
      "\u001b[1;31mTypeError\u001b[0m                                 Traceback (most recent call last)",
      "\u001b[1;32m<ipython-input-9-ce961ea6e734>\u001b[0m in \u001b[0;36m<module>\u001b[1;34m\u001b[0m\n\u001b[0;32m      1\u001b[0m \u001b[1;31m# Modificando Tuplas - Erro\u001b[0m\u001b[1;33m\u001b[0m\u001b[1;33m\u001b[0m\u001b[1;33m\u001b[0m\u001b[0m\n\u001b[1;32m----> 2\u001b[1;33m \u001b[0mt\u001b[0m\u001b[1;33m[\u001b[0m\u001b[1;36m0\u001b[0m\u001b[1;33m]\u001b[0m \u001b[1;33m=\u001b[0m \u001b[1;33m-\u001b[0m\u001b[1;36m1\u001b[0m\u001b[1;33m;\u001b[0m \u001b[0mprint\u001b[0m\u001b[1;33m(\u001b[0m\u001b[0mt\u001b[0m\u001b[1;33m)\u001b[0m\u001b[1;33m\u001b[0m\u001b[1;33m\u001b[0m\u001b[0m\n\u001b[0m",
      "\u001b[1;31mTypeError\u001b[0m: 'tuple' object does not support item assignment"
     ]
    }
   ],
   "source": [
    "# Modificando Tuplas - Erro\n",
    "t[0] = -1; print(t)"
   ]
  },
  {
   "cell_type": "code",
   "execution_count": 2,
   "metadata": {},
   "outputs": [
    {
     "name": "stdout",
     "output_type": "stream",
     "text": [
      "Size of r3: 48 B\n",
      "Size of l3: 8.583175659179688 MB\n",
      "Size of t3: 7.6294403076171875 MB\n"
     ]
    }
   ],
   "source": [
    "# Verificação dos tamanhos das sequências\n",
    "\n",
    "r3 = range(1000000); r3\n",
    "l3 = list(r3)\n",
    "t3 = tuple(r3)\n",
    "\n",
    "import sys\n",
    "\n",
    "print(\"Size of r3:\", sys.getsizeof(r3), 'B')\n",
    "print(\"Size of l3:\", sys.getsizeof(l3)/1024/1024, 'MB')\n",
    "print(\"Size of t3:\", sys.getsizeof(t3)/1024/1024, 'MB')"
   ]
  },
  {
   "cell_type": "markdown",
   "metadata": {},
   "source": [
    "#### Exercício 2: Manipulação de uma lista\n",
    "\n",
    "Criar uma lista com 200 elementos com range(200)\n",
    "* Misturá-la random.shuffle(lista)\n",
    "* Printar e salvar numa nova lista somente as componentes múltiplas de 3.\n",
    "* Usar nova_lista = lista[::3]\n",
    "* Com a nova lista fazer uma média destes valores amostrados.\n",
    "* Usar soma_lista = sum(lista)"
   ]
  },
  {
   "cell_type": "code",
   "execution_count": 10,
   "metadata": {},
   "outputs": [
    {
     "name": "stdout",
     "output_type": "stream",
     "text": [
      "[0, 1, 2, 3, 4, 5, 6, 7, 8, 9, 10, 11, 12, 13, 14, 15, 16, 17, 18, 19]\n"
     ]
    }
   ],
   "source": [
    "lista = list(range(200))\n",
    "print(lista[:20])"
   ]
  },
  {
   "cell_type": "code",
   "execution_count": 11,
   "metadata": {},
   "outputs": [],
   "source": [
    "import random as rd\n",
    "rd.shuffle(lista)"
   ]
  },
  {
   "cell_type": "code",
   "execution_count": 12,
   "metadata": {},
   "outputs": [
    {
     "name": "stdout",
     "output_type": "stream",
     "text": [
      "[22, 87, 140, 98, 188, 197, 49, 25, 185, 61, 67, 152, 143, 1, 29, 50, 100, 162, 113, 78]\n"
     ]
    }
   ],
   "source": [
    "print(lista[:20])"
   ]
  },
  {
   "cell_type": "code",
   "execution_count": 13,
   "metadata": {},
   "outputs": [],
   "source": [
    "nova_lista = lista[::3]"
   ]
  },
  {
   "cell_type": "code",
   "execution_count": 14,
   "metadata": {},
   "outputs": [
    {
     "name": "stdout",
     "output_type": "stream",
     "text": [
      "Media da nova_lista = 98.94029850746269\n"
     ]
    }
   ],
   "source": [
    "print(\"Media da nova_lista =\", sum(nova_lista)/len(nova_lista))"
   ]
  },
  {
   "cell_type": "markdown",
   "metadata": {},
   "source": [
    "#### Strings\n",
    "\n",
    "Uma string é uma sequência com somente caracteres. Ela é declara utilizando 'x' (aspas simples) ou \"x\" (aspas duplas)."
   ]
  },
  {
   "cell_type": "code",
   "execution_count": 15,
   "metadata": {},
   "outputs": [
    {
     "name": "stdout",
     "output_type": "stream",
     "text": [
      "word\n",
      "Word\n"
     ]
    }
   ],
   "source": [
    "word = \"Word\"\n",
    "print(word.lower())\n",
    "print(word)"
   ]
  },
  {
   "cell_type": "code",
   "execution_count": 16,
   "metadata": {},
   "outputs": [
    {
     "name": "stdout",
     "output_type": "stream",
     "text": [
      "WORD\n",
      "4\n"
     ]
    }
   ],
   "source": [
    "print(word.upper())\n",
    "print(len(word))"
   ]
  },
  {
   "cell_type": "markdown",
   "metadata": {},
   "source": [
    "#### Estruturas de repetição\n",
    "\n",
    "* **for:** O for possui um controle maior de iteração, você utiliza quando sabe a quantidade de iterações necessárias para o bloco de instruções. Por exemplo: Um vetor com tamanho definido ou um contador.\n",
    "\n",
    "* **while:** O while você utiliza quando não sabe a quantidade de iterações necessárias para o bloco de instruções. Por exemplo: Um acumulador que deve ser limitado ou uma condição (flag) modificada pelo próprio bloco de instruções."
   ]
  },
  {
   "cell_type": "code",
   "execution_count": 17,
   "metadata": {},
   "outputs": [
    {
     "name": "stdout",
     "output_type": "stream",
     "text": [
      "0\n",
      "1\n",
      "2\n",
      "3\n",
      "4\n",
      "5\n",
      "6\n",
      "7\n",
      "8\n",
      "9\n"
     ]
    }
   ],
   "source": [
    "# a) for utilizando o range\n",
    "\n",
    "for i in r:\n",
    "    print(i)"
   ]
  },
  {
   "cell_type": "code",
   "execution_count": 18,
   "metadata": {},
   "outputs": [
    {
     "name": "stdout",
     "output_type": "stream",
     "text": [
      "-1\n",
      "1\n",
      "2\n",
      "3\n",
      "4\n",
      "5\n",
      "6\n",
      "7\n",
      "8\n",
      "9\n"
     ]
    }
   ],
   "source": [
    "# b) for utilizando a lista\n",
    "\n",
    "for i in l:\n",
    "    print(i)"
   ]
  },
  {
   "cell_type": "code",
   "execution_count": 19,
   "metadata": {},
   "outputs": [
    {
     "name": "stdout",
     "output_type": "stream",
     "text": [
      "0\n",
      "1\n",
      "2\n",
      "3\n",
      "4\n",
      "5\n",
      "6\n",
      "7\n",
      "8\n",
      "9\n"
     ]
    }
   ],
   "source": [
    "# a) for utilizando a tupla\n",
    "\n",
    "for i in t:\n",
    "    print(i)"
   ]
  },
  {
   "cell_type": "code",
   "execution_count": 4,
   "metadata": {},
   "outputs": [
    {
     "name": "stdout",
     "output_type": "stream",
     "text": [
      "Esse laço irá rodar para sempre!\n",
      "Esse laço irá rodar para sempre!\n",
      "Esse laço irá rodar para sempre!\n",
      "Esse laço irá rodar para sempre!\n",
      "Esse laço irá rodar para sempre!\n",
      "Esse laço irá rodar para sempre!\n",
      "Esse laço irá rodar para sempre!\n",
      "Esse laço irá rodar para sempre!\n",
      "Esse laço irá rodar para sempre!\n",
      "Esse laço irá rodar para sempre!\n",
      "Esse laço irá rodar para sempre!\n",
      "Esse laço irá rodar para sempre!\n",
      "Esse laço irá rodar para sempre!\n",
      "\n",
      "\tO laço foi morto!\n"
     ]
    }
   ],
   "source": [
    "kill_flag = 12\n",
    "\n",
    "while True:\n",
    "    print(\"Esse laço irá rodar para sempre!\")\n",
    "    if kill_flag == 0:\n",
    "        print(\"\\n\\tO laço foi morto!\")\n",
    "        break\n",
    "    kill_flag -= 1"
   ]
  },
  {
   "cell_type": "markdown",
   "metadata": {},
   "source": [
    "#### Exercício 3: Simulador de Dado\n",
    "\n",
    "* Fazer um programa que simule um dado. Ele deve ser jogado 10 vezes e os valores armazenados em uma lista.\n",
    "* Mostrar quanto cada um dos lados foi sorteado."
   ]
  },
  {
   "cell_type": "code",
   "execution_count": 21,
   "metadata": {},
   "outputs": [
    {
     "name": "stdout",
     "output_type": "stream",
     "text": [
      "[4, 2, 1, 4, 2, 1, 6, 4, 1, 5]\n"
     ]
    }
   ],
   "source": [
    "dado = [1,2,3,4,5,6]\n",
    "valores = []\n",
    "\n",
    "for i in range(10):\n",
    "    valor = rd.choice(dado)\n",
    "    valores.append(valor)\n",
    "print(valores)"
   ]
  },
  {
   "cell_type": "code",
   "execution_count": 22,
   "metadata": {},
   "outputs": [],
   "source": [
    "#          x 1 2 3 4 5 6\n",
    "counter = [0,0,0,0,0,0,0] # 6 lados + 1\n",
    "\n",
    "for valor2 in valores:\n",
    "    counter[valor2] = counter[valor2] + 1"
   ]
  },
  {
   "cell_type": "code",
   "execution_count": 23,
   "metadata": {},
   "outputs": [
    {
     "name": "stdout",
     "output_type": "stream",
     "text": [
      "1: 3\n",
      "2: 2\n",
      "3: 0\n",
      "4: 3\n",
      "5: 1\n",
      "6: 1\n"
     ]
    }
   ],
   "source": [
    "print(\"1:\",counter[1])\n",
    "print(\"2:\",counter[2])\n",
    "print(\"3:\",counter[3])\n",
    "print(\"4:\",counter[4])\n",
    "print(\"5:\",counter[5])\n",
    "print(\"6:\",counter[6])"
   ]
  },
  {
   "cell_type": "code",
   "execution_count": null,
   "metadata": {},
   "outputs": [],
   "source": []
  }
 ],
 "metadata": {
  "kernelspec": {
   "display_name": "Python 3",
   "language": "python",
   "name": "python3"
  },
  "language_info": {
   "codemirror_mode": {
    "name": "ipython",
    "version": 3
   },
   "file_extension": ".py",
   "mimetype": "text/x-python",
   "name": "python",
   "nbconvert_exporter": "python",
   "pygments_lexer": "ipython3",
   "version": "3.7.7"
  }
 },
 "nbformat": 4,
 "nbformat_minor": 4
}
